{
 "cells": [
  {
   "cell_type": "code",
   "execution_count": null,
   "metadata": {},
   "outputs": [],
   "source": [
    "import pandas as pd\n",
    "import numpy as np\n",
    "import codecs\n",
    "import datetime\n",
    "pd.set_option(\"mode.chained_assignment\", None)"
   ]
  },
  {
   "cell_type": "code",
   "execution_count": null,
   "metadata": {},
   "outputs": [],
   "source": [
    "from sklearn.linear_model import LogisticRegression\n",
    "from sklearn.feature_selection import RFECV\n",
    "from sklearn.feature_selection import SelectKBest\n",
    "from sklearn.feature_selection import chi2\n",
    "from sklearn.metrics import roc_curve, auc\n",
    "from sklearn.model_selection import StratifiedKFold\n",
    "from sklearn.model_selection import cross_val_score\n",
    "from sklearn.model_selection import train_test_split\n",
    "from sklearn.ensemble import RandomForestClassifier\n",
    "from sklearn.ensemble import RandomForestRegressor\n",
    "from sklearn.model_selection import GridSearchCV\n",
    "from sklearn import metrics as sm\n",
    "from sklearn.utils import resample\n",
    "from imblearn.over_sampling import RandomOverSampler\n",
    "from imblearn.ensemble import BalancedRandomForestClassifier\n",
    "from sklearn.metrics import average_precision_score\n",
    "from scipy import interp\n",
    "from scipy import stats\n",
    "import itertools"
   ]
  },
  {
   "cell_type": "code",
   "execution_count": null,
   "metadata": {},
   "outputs": [],
   "source": [
    "cohort_df = pd.read_csv(r\"XXX/covid19_all_train_cleaned.csv\", low_memory=False)"
   ]
  },
  {
   "cell_type": "code",
   "execution_count": null,
   "metadata": {},
   "outputs": [],
   "source": [
    "cohort_df=cohort_df.set_index('PATIENT')"
   ]
  },
  {
   "cell_type": "code",
   "execution_count": null,
   "metadata": {},
   "outputs": [],
   "source": [
    "cohort_df=cohort_df.replace(999,0)"
   ]
  },
  {
   "cell_type": "code",
   "execution_count": null,
   "metadata": {},
   "outputs": [],
   "source": [
    "for col in cohort_df.columns:\n",
    "    if len(cohort_df[col].unique()) == 1:\n",
    "        cohort_df.drop(col,inplace=True,axis=1)\n",
    "cohort_df.shape"
   ]
  },
  {
   "cell_type": "code",
   "execution_count": null,
   "metadata": {},
   "outputs": [],
   "source": [
    "univar_df=cohort_df.drop([ 'train_vet_test','covid_hosp','death','covid_hosp_los',\n",
    "                          'covid_icu','covid_icu_los','covid_niv',\n",
    "                          'healthcare_total', 'HEALTHCARE_COVERAGE','Healthcare_Coverage_quint',\n",
    "                          'HEALTHCARE_EXPENSES','Healthcare_Expenses_quint','CITY'],axis=1)"
   ]
  },
  {
   "cell_type": "code",
   "execution_count": null,
   "metadata": {},
   "outputs": [],
   "source": [
    "univar = pd.DataFrame(columns=[\"Variable\", \"Chi2\", \"p_value\"])\n",
    "for i in univar_df.columns:\n",
    "    contingency = pd.crosstab(univar_df[i],univar_df.covid_status)\n",
    "    chi2, p, dof, ex = stats.chi2_contingency(contingency, correction=False)\n",
    "    vardata = pd.DataFrame([[i,chi2,p]],\n",
    "                           columns=[\"Variable\", \"Chi2\", \"p_value\"])\n",
    "    univar = univar.append(vardata)\n",
    "    univar = univar.round(2) "
   ]
  },
  {
   "cell_type": "code",
   "execution_count": null,
   "metadata": {},
   "outputs": [],
   "source": [
    "univar2=univar.sort_values(by='Chi2',ascending=False).head(51)\n",
    "univar2"
   ]
  },
  {
   "cell_type": "code",
   "execution_count": null,
   "metadata": {},
   "outputs": [],
   "source": [
    "select = univar2.iloc[1:,:][\"Variable\"].tolist()\n",
    "select"
   ]
  },
  {
   "cell_type": "code",
   "execution_count": null,
   "metadata": {},
   "outputs": [],
   "source": [
    "data_all = cohort_df.loc[:, (cohort_df.columns.isin(select))]"
   ]
  },
  {
   "cell_type": "code",
   "execution_count": null,
   "metadata": {},
   "outputs": [],
   "source": [
    "for column in data_all:\n",
    "    if (len(data_all[column].unique()) > 2) & ~(data_all[column].name in('age','enco19_ambulatory', \n",
    "                                                                              'enco19_outpatient', 'enco19_urgentcare',\n",
    "                                                                              'enco19_inpatient', 'enco19_emergency', \n",
    "                                                                              'enco1518_wellness','enco1518_ambulatory',\n",
    "                                                                              'enco1518_outpatient', 'enco1518_emergency',\n",
    "                                                                              'enco1518_inpatient',\n",
    "                                                                              'obs_2708_6','obs_29463_7',\n",
    "                                                                              'obs_8302_2','obs_8302_2', \n",
    "                                                                              'obs_8310_5', 'obs_8462_4', \n",
    "                                                                              'obs_8480_6','obs_8867_4', \n",
    "                                                                              'obs_DALY', 'obs_QALY', \n",
    "                                                                              'obs_QOLS')) :\n",
    "        data_all = pd.get_dummies(data=data_all , columns=[column],drop_first=True)"
   ]
  },
  {
   "cell_type": "code",
   "execution_count": null,
   "metadata": {},
   "outputs": [],
   "source": [
    "data_all = pd.get_dummies(data=data_all , columns=['GENDER'],drop_first=True)"
   ]
  },
  {
   "cell_type": "code",
   "execution_count": null,
   "metadata": {},
   "outputs": [],
   "source": [
    "data_all = pd.get_dummies(data=data_all , columns=['ETHNICITY'],drop_first=True)"
   ]
  },
  {
   "cell_type": "code",
   "execution_count": null,
   "metadata": {},
   "outputs": [],
   "source": [
    "data_all = pd.concat([data_all,cohort_df[\"covid_status\"]],axis=1)\n",
    "data_all = pd.concat([data_all,cohort_df[\"train_vet_test\"]],axis=1)"
   ]
  },
  {
   "cell_type": "code",
   "execution_count": null,
   "metadata": {},
   "outputs": [],
   "source": [
    "covid_train = data_all.loc[data_all.train_vet_test==0,:]\n",
    "covid_train=covid_train.drop(['train_vet_test'],axis=1)\n",
    "covid_train.shape"
   ]
  },
  {
   "cell_type": "code",
   "execution_count": null,
   "metadata": {},
   "outputs": [],
   "source": [
    "covid_test= data_all.loc[data_all.train_vet_test==1,:]\n",
    "covid_test=covid_test.drop(['train_vet_test'],axis=1)\n",
    "covid_test.shape"
   ]
  },
  {
   "cell_type": "code",
   "execution_count": null,
   "metadata": {},
   "outputs": [],
   "source": [
    "train_data = covid_train.values\n",
    "column = covid_train.columns\n",
    "covid_train_x = train_data [:,:-1]\n",
    "covid_train_x\n",
    "covid_train_y_covid = train_data [:,-1].astype('int')\n",
    "covid_train_y_covid"
   ]
  },
  {
   "cell_type": "code",
   "execution_count": null,
   "metadata": {},
   "outputs": [],
   "source": [
    "test_data = covid_test.values\n",
    "column_test = covid_test.columns\n",
    "covid_test_x = test_data [:,:-1]\n",
    "covid_test_x\n",
    "covid_test_y_covid = test_data [:,-1].astype('int')\n",
    "covid_test_y_covid"
   ]
  },
  {
   "cell_type": "code",
   "execution_count": null,
   "metadata": {},
   "outputs": [],
   "source": [
    "from sklearn.model_selection import RandomizedSearchCV\n",
    "n_estimators = [int(x) for x in np.linspace(start = 100, stop = 1000, num = 10)]\n",
    "n_estimators.append(10)\n",
    "max_depth = [int(x) for x in np.linspace(10, 100, num = 10)]\n",
    "#max_depth.append(None)\n",
    "random_grid = {'n_estimators': [200],\n",
    "               'max_depth': max_depth,\n",
    "               'max_features' : [\"log2\",\"sqrt\"]}\n",
    "print(random_grid)"
   ]
  },
  {
   "cell_type": "code",
   "execution_count": null,
   "metadata": {},
   "outputs": [],
   "source": [
    "estimator = RandomForestClassifier()\n",
    "clf = RandomizedSearchCV(estimator, random_grid, n_iter = 10, cv = 5, verbose=2)\n",
    "clf.fit(covid_train_x,covid_train_y_covid)\n",
    "clf.best_params_"
   ]
  },
  {
   "cell_type": "code",
   "execution_count": null,
   "metadata": {},
   "outputs": [],
   "source": [
    "clf.cv_results_"
   ]
  },
  {
   "cell_type": "code",
   "execution_count": null,
   "metadata": {},
   "outputs": [],
   "source": [
    "y_pred = clf.predict(covid_test_x)\n",
    "accuracy = sm.accuracy_score(covid_test_y_covid, y_pred)\n",
    "recall = sm.recall_score(covid_test_y_covid, y_pred)\n",
    "precision = sm.precision_score(covid_test_y_covid, y_pred)"
   ]
  },
  {
   "cell_type": "code",
   "execution_count": null,
   "metadata": {
    "scrolled": true
   },
   "outputs": [],
   "source": [
    "accuracy, recall, precision"
   ]
  },
  {
   "cell_type": "code",
   "execution_count": null,
   "metadata": {},
   "outputs": [],
   "source": [
    "probas_ = clf.predict_proba(covid_test_x)\n",
    "fpr,tpr,thresholds =  roc_curve(covid_test_y_covid,probas_[:,1])\n",
    "roc_auc = auc(fpr, tpr)\n",
    "roc_auc"
   ]
  },
  {
   "cell_type": "code",
   "execution_count": null,
   "metadata": {},
   "outputs": [],
   "source": [
    "auprc = average_precision_score(covid_test_y_covid, probas_[:,1])\n",
    "auprc"
   ]
  },
  {
   "cell_type": "code",
   "execution_count": null,
   "metadata": {},
   "outputs": [],
   "source": [
    "df = pd.DataFrame({'Var':column[:-2], 'vip':clf.best_estimator_.feature_importances_}).sort_values(by='vip',ascending=False)\n",
    "df"
   ]
  },
  {
   "cell_type": "markdown",
   "metadata": {
    "collapsed": true
   },
   "source": [
    "### Use all training data re-run the model"
   ]
  },
  {
   "cell_type": "code",
   "execution_count": null,
   "metadata": {},
   "outputs": [],
   "source": [
    "covid_train_all=data_all\n",
    "covid_train_all=covid_train_all.drop(['train_vet_test'],axis=1)\n",
    "covid_train_all.shape"
   ]
  },
  {
   "cell_type": "code",
   "execution_count": null,
   "metadata": {},
   "outputs": [],
   "source": [
    "covid_train_all"
   ]
  },
  {
   "cell_type": "code",
   "execution_count": null,
   "metadata": {},
   "outputs": [],
   "source": [
    "covid_train_total = covid_train_all.values\n",
    "column__total = covid_train_all.columns\n",
    "covid_all_x = covid_train_total [:,:-1]\n",
    "covid_all_y_covid = covid_train_total [:,-1].astype('int')\n",
    "covid_all_y_covid"
   ]
  },
  {
   "cell_type": "code",
   "execution_count": null,
   "metadata": {},
   "outputs": [],
   "source": [
    "clf_final = RandomForestClassifier(n_estimators=200,max_features='log2',max_depth=10)\n",
    "clf_final.fit(covid_all_x,covid_all_y_covid)"
   ]
  },
  {
   "cell_type": "code",
   "execution_count": null,
   "metadata": {},
   "outputs": [],
   "source": [
    "covid_pred_train = clf_final.predict_proba(covid_all_x)\n",
    "covid_train_all['covid_predict']=covid_pred_train[:,1]\n",
    "train_outcome_covid=covid_train_all[['covid_predict']]\n",
    "train_outcome_covid['train_test']=1\n",
    "train_outcome_covid"
   ]
  },
  {
   "cell_type": "code",
   "execution_count": null,
   "metadata": {},
   "outputs": [],
   "source": [
    "probas_ = clf_final.predict_proba(covid_all_x)\n",
    "fpr,tpr,thresholds =  roc_curve(covid_all_y_covid,probas_[:,1])\n",
    "roc_auc = auc(fpr, tpr)\n",
    "roc_auc"
   ]
  },
  {
   "cell_type": "code",
   "execution_count": null,
   "metadata": {},
   "outputs": [],
   "source": [
    "auprc = average_precision_score(covid_all_y_covid, probas_[:,1])\n",
    "auprc"
   ]
  },
  {
   "cell_type": "markdown",
   "metadata": {},
   "source": [
    "### Predict the test set"
   ]
  },
  {
   "cell_type": "code",
   "execution_count": null,
   "metadata": {},
   "outputs": [],
   "source": [
    "test_df = pd.read_csv(r\"XXX/covid19_all_test_cleaned.csv\", low_memory=False)"
   ]
  },
  {
   "cell_type": "code",
   "execution_count": null,
   "metadata": {},
   "outputs": [],
   "source": [
    "test_df=test_df.set_index('PATIENT')"
   ]
  },
  {
   "cell_type": "code",
   "execution_count": null,
   "metadata": {},
   "outputs": [],
   "source": [
    "#test_df = test_df.loc[:, (test_df.columns.isin(cohort_df.columns))]\n",
    "test_df = test_df.loc[:, (test_df.columns.isin(select))]"
   ]
  },
  {
   "cell_type": "code",
   "execution_count": null,
   "metadata": {},
   "outputs": [],
   "source": [
    "test_df = test_df.replace(999,0)"
   ]
  },
  {
   "cell_type": "code",
   "execution_count": null,
   "metadata": {},
   "outputs": [],
   "source": [
    "test_df=test_df.drop([ 'healthcare_total', 'HEALTHCARE_COVERAGE','Healthcare_Coverage_quint',\n",
    "                       'HEALTHCARE_EXPENSES','Healthcare_Expenses_quint','CITY'],axis=1)"
   ]
  },
  {
   "cell_type": "code",
   "execution_count": null,
   "metadata": {},
   "outputs": [],
   "source": [
    "for column in test_df:\n",
    "    if (len(test_df[column].unique()) > 2) & ~(test_df[column].name in('age','enco19_ambulatory', \n",
    "                                                                              'enco19_outpatient', 'enco19_urgentcare',\n",
    "                                                                              'enco19_inpatient', 'enco19_emergency', \n",
    "                                                                              'enco1518_wellness','enco1518_ambulatory',\n",
    "                                                                              'enco1518_outpatient', 'enco1518_emergency',\n",
    "                                                                              'enco1518_inpatient',\n",
    "                                                                              'obs_2708_6','obs_29463_7',\n",
    "                                                                              'obs_8302_2','obs_8302_2', \n",
    "                                                                              'obs_8310_5', 'obs_8462_4', \n",
    "                                                                              'obs_8480_6','obs_8867_4', \n",
    "                                                                              'obs_DALY', 'obs_QALY', \n",
    "                                                                              'obs_QOLS')) :\n",
    "        test_df = pd.get_dummies(data=test_df , columns=[column],drop_first=True)"
   ]
  },
  {
   "cell_type": "code",
   "execution_count": null,
   "metadata": {},
   "outputs": [],
   "source": [
    "test_df = pd.get_dummies(data=test_df , columns=['GENDER'],drop_first=True)"
   ]
  },
  {
   "cell_type": "code",
   "execution_count": null,
   "metadata": {},
   "outputs": [],
   "source": [
    "test_df = pd.get_dummies(data=test_df , columns=['ETHNICITY'],drop_first=True)"
   ]
  },
  {
   "cell_type": "code",
   "execution_count": null,
   "metadata": {},
   "outputs": [],
   "source": [
    "covid_test_total = test_df.values\n",
    "column_test = test_df.columns\n",
    "covid_test_all_x = covid_test_total [:,:]"
   ]
  },
  {
   "cell_type": "code",
   "execution_count": null,
   "metadata": {},
   "outputs": [],
   "source": [
    "covid_pred_test = clf_final.predict_proba(covid_test_all_x)"
   ]
  },
  {
   "cell_type": "code",
   "execution_count": null,
   "metadata": {},
   "outputs": [],
   "source": [
    "test_df['covid_predict']=covid_pred_test[:,1]\n",
    "test_outcome_covid=test_df[['covid_predict']]\n",
    "test_outcome_covid['train_test']=0\n",
    "test_outcome_covid"
   ]
  },
  {
   "cell_type": "code",
   "execution_count": null,
   "metadata": {},
   "outputs": [],
   "source": []
  }
 ],
 "metadata": {
  "kernelspec": {
   "display_name": "Python 3",
   "language": "python",
   "name": "python3"
  },
  "language_info": {
   "codemirror_mode": {
    "name": "ipython",
    "version": 3
   },
   "file_extension": ".py",
   "mimetype": "text/x-python",
   "name": "python",
   "nbconvert_exporter": "python",
   "pygments_lexer": "ipython3",
   "version": "3.6.10"
  }
 },
 "nbformat": 4,
 "nbformat_minor": 2
}
